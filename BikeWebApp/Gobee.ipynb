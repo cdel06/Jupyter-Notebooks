{
 "cells": [
  {
   "cell_type": "code",
   "execution_count": 1,
   "metadata": {},
   "outputs": [],
   "source": [
    "import requests\n",
    "import json\n",
    "import pandas as pd\n",
    "import datetime\n",
    "import folium"
   ]
  },
  {
   "cell_type": "code",
   "execution_count": 2,
   "metadata": {},
   "outputs": [],
   "source": [
    "lat=48.853\n",
    "long=2.35\n",
    "gAccuracy=5"
   ]
  },
  {
   "cell_type": "markdown",
   "metadata": {},
   "source": [
    "### Gobee ###"
   ]
  },
  {
   "cell_type": "code",
   "execution_count": 3,
   "metadata": {},
   "outputs": [],
   "source": [
    "gURL = 'http://aws.gobee.bike/GobeeBike/bikes/near_bikes?accuracy='+str(gAccuracy)+'&lat='+str(lat)+'&lng='+str(long)"
   ]
  },
  {
   "cell_type": "code",
   "execution_count": 4,
   "metadata": {},
   "outputs": [],
   "source": [
    "gobee = requests.get(gURL).json()\n",
    "gobee = pd.DataFrame(gobee['data']['bikes'])"
   ]
  },
  {
   "cell_type": "code",
   "execution_count": 5,
   "metadata": {},
   "outputs": [],
   "source": [
    "#gobee.lastUsageTimestamp=gobee.lastUsageTimestamp.apply(lambda x : datetime.datetime.fromtimestamp(int(x)).strftime('%d-%m-%Y %H:%M'))"
   ]
  },
  {
   "cell_type": "markdown",
   "metadata": {},
   "source": [
    "### Obike ###"
   ]
  },
  {
   "cell_type": "code",
   "execution_count": 22,
   "metadata": {},
   "outputs": [],
   "source": [
    "oURL='https://mobile.o.bike/api/v1/bike/list?latitude='+str(lat)+'&longitude='+str(long)"
   ]
  },
  {
   "cell_type": "code",
   "execution_count": 23,
   "metadata": {},
   "outputs": [],
   "source": [
    "obike = requests.get(oURL).json()"
   ]
  },
  {
   "cell_type": "code",
   "execution_count": 24,
   "metadata": {},
   "outputs": [
    {
     "data": {
      "text/plain": [
       "{'data': {'code': 500, 'error': 'Server is busy,please try later'},\n",
       " 'errorCode': 400,\n",
       " 'success': False}"
      ]
     },
     "execution_count": 24,
     "metadata": {},
     "output_type": "execute_result"
    }
   ],
   "source": [
    "obike"
   ]
  },
  {
   "cell_type": "markdown",
   "metadata": {},
   "source": [
    "### Mobike? ###"
   ]
  },
  {
   "cell_type": "markdown",
   "metadata": {},
   "source": [
    "### OFO ###"
   ]
  },
  {
   "cell_type": "markdown",
   "metadata": {},
   "source": [
    "### Velib ###"
   ]
  },
  {
   "cell_type": "code",
   "execution_count": 39,
   "metadata": {},
   "outputs": [],
   "source": [
    "vContract='jcdecaux-bike-stations-data'\n",
    "cKey='68dbaa32d0d451c8069c17516a291f7c25f49f13'"
   ]
  },
  {
   "cell_type": "code",
   "execution_count": 40,
   "metadata": {},
   "outputs": [],
   "source": [
    "vURL='https://api.jcdecaux.com/vls/v1/stations?contract='+vContract+'&apiKey='+cKey"
   ]
  },
  {
   "cell_type": "code",
   "execution_count": 41,
   "metadata": {},
   "outputs": [
    {
     "data": {
      "text/plain": [
       "{'error': 'Specified contract does not exist'}"
      ]
     },
     "execution_count": 41,
     "metadata": {},
     "output_type": "execute_result"
    }
   ],
   "source": [
    "velib = requests.get(vURL).json()\n",
    "velib"
   ]
  },
  {
   "cell_type": "code",
   "execution_count": 34,
   "metadata": {},
   "outputs": [
    {
     "data": {
      "text/plain": [
       "{'error': 'Specified contract does not exist'}"
      ]
     },
     "execution_count": 34,
     "metadata": {},
     "output_type": "execute_result"
    }
   ],
   "source": []
  },
  {
   "cell_type": "markdown",
   "metadata": {},
   "source": [
    "### Map Viz ###"
   ]
  },
  {
   "cell_type": "code",
   "execution_count": 12,
   "metadata": {
    "scrolled": true
   },
   "outputs": [
    {
     "data": {
      "text/html": [
       "<div style=\"width:100%;\"><div style=\"position:relative;width:100%;height:0;padding-bottom:60%;\"><iframe src=\"data:text/html;charset=utf-8;base64,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\" style=\"position:absolute;width:100%;height:100%;left:0;top:0;border:none !important;\" allowfullscreen webkitallowfullscreen mozallowfullscreen></iframe></div></div>"
      ],
      "text/plain": [
       "<folium.folium.Map at 0x7f1812567f28>"
      ]
     },
     "execution_count": 12,
     "metadata": {},
     "output_type": "execute_result"
    }
   ],
   "source": [
    "#Setting Up the map\n",
    "myMap = folium.Map(location=[lat, long],\n",
    "                        zoom_start=15,\n",
    "                        tiles=\"CartoDB dark_matter\")\n",
    "#Setting up my position\n",
    "myPosition = folium.CircleMarker(location=[lat, long],\n",
    "                            radius=7,\n",
    "                            color='red',\n",
    "                            fill=True,\n",
    "                            fill_opacity=0.5)\n",
    "# add a marker for every record in the filtered data, use a clustered view\n",
    "for el in range(len(gobee)):\n",
    "    glat=gobee.iloc[el,1]\n",
    "    glong=gobee.iloc[el,2]\n",
    "    folium.Marker(location = [glat,glong],\n",
    "                 popup='GooBee',\n",
    "                 icon=folium.Icon(color='green', icon='dashboard')).add_to(myMap)\n",
    "\n",
    "myPosition.add_to(myMap)\n",
    "myMap"
   ]
  },
  {
   "cell_type": "code",
   "execution_count": 7,
   "metadata": {
    "scrolled": true
   },
   "outputs": [
    {
     "data": {
      "text/html": [
       "<div>\n",
       "<style scoped>\n",
       "    .dataframe tbody tr th:only-of-type {\n",
       "        vertical-align: middle;\n",
       "    }\n",
       "\n",
       "    .dataframe tbody tr th {\n",
       "        vertical-align: top;\n",
       "    }\n",
       "\n",
       "    .dataframe thead th {\n",
       "        text-align: right;\n",
       "    }\n",
       "</style>\n",
       "<table border=\"1\" class=\"dataframe\">\n",
       "  <thead>\n",
       "    <tr style=\"text-align: right;\">\n",
       "      <th></th>\n",
       "      <th>bid</th>\n",
       "      <th>gLat</th>\n",
       "      <th>gLng</th>\n",
       "      <th>hasHotspotDropoffDiscount</th>\n",
       "      <th>hotspotDropoffDiscountAmount</th>\n",
       "      <th>lastUsageTimestamp</th>\n",
       "      <th>number</th>\n",
       "      <th>power</th>\n",
       "      <th>status</th>\n",
       "      <th>typeId</th>\n",
       "    </tr>\n",
       "  </thead>\n",
       "  <tbody>\n",
       "    <tr>\n",
       "      <th>0</th>\n",
       "      <td>8206</td>\n",
       "      <td>48.847710</td>\n",
       "      <td>2.359673</td>\n",
       "      <td>False</td>\n",
       "      <td>0.0</td>\n",
       "      <td>09-01-2018 12:56</td>\n",
       "      <td>3300115</td>\n",
       "      <td>380</td>\n",
       "      <td>0</td>\n",
       "      <td>3</td>\n",
       "    </tr>\n",
       "    <tr>\n",
       "      <th>1</th>\n",
       "      <td>9072</td>\n",
       "      <td>48.853731</td>\n",
       "      <td>2.342989</td>\n",
       "      <td>False</td>\n",
       "      <td>0.0</td>\n",
       "      <td>23-11-2017 12:25</td>\n",
       "      <td>3300958</td>\n",
       "      <td>399</td>\n",
       "      <td>0</td>\n",
       "      <td>3</td>\n",
       "    </tr>\n",
       "    <tr>\n",
       "      <th>2</th>\n",
       "      <td>18875</td>\n",
       "      <td>48.857863</td>\n",
       "      <td>2.337040</td>\n",
       "      <td>False</td>\n",
       "      <td>0.0</td>\n",
       "      <td>07-01-2018 20:43</td>\n",
       "      <td>3301717</td>\n",
       "      <td>378</td>\n",
       "      <td>0</td>\n",
       "      <td>3</td>\n",
       "    </tr>\n",
       "    <tr>\n",
       "      <th>3</th>\n",
       "      <td>22367</td>\n",
       "      <td>48.858536</td>\n",
       "      <td>2.349283</td>\n",
       "      <td>False</td>\n",
       "      <td>0.0</td>\n",
       "      <td>22-12-2017 17:37</td>\n",
       "      <td>3303937</td>\n",
       "      <td>352</td>\n",
       "      <td>0</td>\n",
       "      <td>3</td>\n",
       "    </tr>\n",
       "    <tr>\n",
       "      <th>4</th>\n",
       "      <td>22529</td>\n",
       "      <td>48.858086</td>\n",
       "      <td>2.353276</td>\n",
       "      <td>False</td>\n",
       "      <td>0.0</td>\n",
       "      <td>09-01-2018 13:47</td>\n",
       "      <td>3304030</td>\n",
       "      <td>362</td>\n",
       "      <td>0</td>\n",
       "      <td>3</td>\n",
       "    </tr>\n",
       "  </tbody>\n",
       "</table>\n",
       "</div>"
      ],
      "text/plain": [
       "     bid       gLat      gLng  hasHotspotDropoffDiscount  \\\n",
       "0   8206  48.847710  2.359673                      False   \n",
       "1   9072  48.853731  2.342989                      False   \n",
       "2  18875  48.857863  2.337040                      False   \n",
       "3  22367  48.858536  2.349283                      False   \n",
       "4  22529  48.858086  2.353276                      False   \n",
       "\n",
       "   hotspotDropoffDiscountAmount lastUsageTimestamp   number  power  status  \\\n",
       "0                           0.0   09-01-2018 12:56  3300115    380       0   \n",
       "1                           0.0   23-11-2017 12:25  3300958    399       0   \n",
       "2                           0.0   07-01-2018 20:43  3301717    378       0   \n",
       "3                           0.0   22-12-2017 17:37  3303937    352       0   \n",
       "4                           0.0   09-01-2018 13:47  3304030    362       0   \n",
       "\n",
       "   typeId  \n",
       "0       3  \n",
       "1       3  \n",
       "2       3  \n",
       "3       3  \n",
       "4       3  "
      ]
     },
     "execution_count": 7,
     "metadata": {},
     "output_type": "execute_result"
    }
   ],
   "source": [
    "gobee.head()"
   ]
  },
  {
   "cell_type": "code",
   "execution_count": null,
   "metadata": {},
   "outputs": [],
   "source": []
  },
  {
   "cell_type": "code",
   "execution_count": null,
   "metadata": {},
   "outputs": [],
   "source": []
  },
  {
   "cell_type": "code",
   "execution_count": null,
   "metadata": {},
   "outputs": [],
   "source": []
  },
  {
   "cell_type": "code",
   "execution_count": null,
   "metadata": {},
   "outputs": [],
   "source": []
  },
  {
   "cell_type": "code",
   "execution_count": null,
   "metadata": {},
   "outputs": [],
   "source": []
  },
  {
   "cell_type": "code",
   "execution_count": null,
   "metadata": {},
   "outputs": [],
   "source": []
  },
  {
   "cell_type": "code",
   "execution_count": null,
   "metadata": {},
   "outputs": [],
   "source": []
  },
  {
   "cell_type": "code",
   "execution_count": null,
   "metadata": {},
   "outputs": [],
   "source": []
  },
  {
   "cell_type": "code",
   "execution_count": null,
   "metadata": {},
   "outputs": [],
   "source": []
  },
  {
   "cell_type": "code",
   "execution_count": null,
   "metadata": {},
   "outputs": [],
   "source": []
  },
  {
   "cell_type": "code",
   "execution_count": null,
   "metadata": {},
   "outputs": [],
   "source": []
  },
  {
   "cell_type": "code",
   "execution_count": null,
   "metadata": {},
   "outputs": [],
   "source": []
  },
  {
   "cell_type": "code",
   "execution_count": null,
   "metadata": {},
   "outputs": [],
   "source": []
  },
  {
   "cell_type": "code",
   "execution_count": null,
   "metadata": {},
   "outputs": [],
   "source": []
  },
  {
   "cell_type": "code",
   "execution_count": null,
   "metadata": {},
   "outputs": [],
   "source": []
  },
  {
   "cell_type": "code",
   "execution_count": null,
   "metadata": {},
   "outputs": [],
   "source": []
  }
 ],
 "metadata": {
  "kernelspec": {
   "display_name": "Python [conda root]",
   "language": "python",
   "name": "conda-root-py"
  },
  "language_info": {
   "codemirror_mode": {
    "name": "ipython",
    "version": 3
   },
   "file_extension": ".py",
   "mimetype": "text/x-python",
   "name": "python",
   "nbconvert_exporter": "python",
   "pygments_lexer": "ipython3",
   "version": "3.6.2"
  }
 },
 "nbformat": 4,
 "nbformat_minor": 2
}
